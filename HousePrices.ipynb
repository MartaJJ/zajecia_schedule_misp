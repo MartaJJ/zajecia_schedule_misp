{
  "nbformat": 4,
  "nbformat_minor": 0,
  "metadata": {
    "colab": {
      "name": "HousePrices.ipynb",
      "provenance": [],
      "include_colab_link": true
    },
    "kernelspec": {
      "display_name": "Python 3",
      "language": "python",
      "name": "python3"
    },
    "language_info": {
      "codemirror_mode": {
        "name": "ipython",
        "version": 3
      },
      "file_extension": ".py",
      "mimetype": "text/x-python",
      "name": "python",
      "nbconvert_exporter": "python",
      "pygments_lexer": "ipython3",
      "version": "3.7.4"
    }
  },
  "cells": [
    {
      "cell_type": "markdown",
      "metadata": {
        "id": "view-in-github",
        "colab_type": "text"
      },
      "source": [
        "<a href=\"https://colab.research.google.com/github/MartaJJ/zajecia_schedule_misp/blob/master/HousePrices.ipynb\" target=\"_parent\"><img src=\"https://colab.research.google.com/assets/colab-badge.svg\" alt=\"Open In Colab\"/></a>"
      ]
    },
    {
      "cell_type": "code",
      "metadata": {
        "colab_type": "code",
        "id": "1QXq0ubiQEVA",
        "outputId": "07606c1a-d980-408f-e295-1cfa0d289eed",
        "colab": {
          "base_uri": "https://localhost:8080/",
          "height": 122
        }
      },
      "source": [
        "from google.colab import drive\n",
        "drive.mount('/content/drive/')"
      ],
      "execution_count": 1,
      "outputs": [
        {
          "output_type": "stream",
          "text": [
            "Go to this URL in a browser: https://accounts.google.com/o/oauth2/auth?client_id=947318989803-6bn6qk8qdgf4n4g3pfee6491hc0brc4i.apps.googleusercontent.com&redirect_uri=urn%3aietf%3awg%3aoauth%3a2.0%3aoob&response_type=code&scope=email%20https%3a%2f%2fwww.googleapis.com%2fauth%2fdocs.test%20https%3a%2f%2fwww.googleapis.com%2fauth%2fdrive%20https%3a%2f%2fwww.googleapis.com%2fauth%2fdrive.photos.readonly%20https%3a%2f%2fwww.googleapis.com%2fauth%2fpeopleapi.readonly\n",
            "\n",
            "Enter your authorization code:\n",
            "··········\n",
            "Mounted at /content/drive/\n"
          ],
          "name": "stdout"
        }
      ]
    },
    {
      "cell_type": "code",
      "metadata": {
        "colab_type": "code",
        "id": "3v9n-ejctIlO",
        "outputId": "36f98e22-2e53-448c-d112-949014db0020",
        "colab": {
          "base_uri": "https://localhost:8080/",
          "height": 255
        }
      },
      "source": [
        "import pandas as pd\n",
        "from sklearn.preprocessing import Imputer\n",
        "from sklearn.linear_model import LinearRegression\n",
        "import numpy\n",
        "from sklearn.model_selection import train_test_split\n",
        "from sklearn.metrics import mean_squared_error\n",
        "from sklearn import preprocessing\n",
        "from sklearn.ensemble import RandomForestRegressor\n",
        "\n",
        "\n",
        "train = pd.read_csv('/content/drive/My Drive/train.csv', index_col= 'Id')\n",
        "train.reset_index(drop=True, inplace=True)\n",
        "print(train)"
      ],
      "execution_count": 2,
      "outputs": [
        {
          "output_type": "stream",
          "text": [
            "      MSSubClass MSZoning  LotFrontage  ...  SaleType SaleCondition SalePrice\n",
            "0             60       RL         65.0  ...        WD        Normal    208500\n",
            "1             20       RL         80.0  ...        WD        Normal    181500\n",
            "2             60       RL         68.0  ...        WD        Normal    223500\n",
            "3             70       RL         60.0  ...        WD       Abnorml    140000\n",
            "4             60       RL         84.0  ...        WD        Normal    250000\n",
            "...          ...      ...          ...  ...       ...           ...       ...\n",
            "1455          60       RL         62.0  ...        WD        Normal    175000\n",
            "1456          20       RL         85.0  ...        WD        Normal    210000\n",
            "1457          70       RL         66.0  ...        WD        Normal    266500\n",
            "1458          20       RL         68.0  ...        WD        Normal    142125\n",
            "1459          20       RL         75.0  ...        WD        Normal    147500\n",
            "\n",
            "[1460 rows x 80 columns]\n"
          ],
          "name": "stdout"
        }
      ]
    },
    {
      "cell_type": "code",
      "metadata": {
        "colab_type": "code",
        "id": "-Je4sq6o8ysl",
        "colab": {}
      },
      "source": [
        "def preprocess_data(data):\n",
        "  numerical, categorical = [], []\n",
        "  for i in data.columns:\n",
        "      if data[i].dtype == 'object':\n",
        "          categorical.append(i)\n",
        "      else:\n",
        "          numerical.append(i)\n",
        "  \n",
        "  numerical.remove('MSSubClass')\n",
        "  categorical.append('MSSubClass')\n",
        "  train_num = data[numerical]\n",
        "\n",
        "  imputer = Imputer(missing_values='NaN' , strategy='median' , axis = 0)\n",
        "  imputer = imputer.fit(train_num)\n",
        "  train_num = imputer.transform(train_num)\n",
        "\n",
        "  return train_num"
      ],
      "execution_count": 0,
      "outputs": []
    },
    {
      "cell_type": "code",
      "metadata": {
        "colab_type": "code",
        "id": "TNzhy-ErGu1Z",
        "outputId": "4b61dc15-66f2-4bcc-f259-07ff5bec91ff",
        "colab": {
          "base_uri": "https://localhost:8080/",
          "height": 71
        }
      },
      "source": [
        "y_train = train[['SalePrice']]\n",
        "train.drop('SalePrice' , axis = 1 , inplace=True)\n",
        "\n",
        "X_train = preprocess_data(train)"
      ],
      "execution_count": 4,
      "outputs": [
        {
          "output_type": "stream",
          "text": [
            "/usr/local/lib/python3.6/dist-packages/sklearn/utils/deprecation.py:66: DeprecationWarning: Class Imputer is deprecated; Imputer was deprecated in version 0.20 and will be removed in 0.22. Import impute.SimpleImputer from sklearn instead.\n",
            "  warnings.warn(msg, category=DeprecationWarning)\n"
          ],
          "name": "stderr"
        }
      ]
    },
    {
      "cell_type": "code",
      "metadata": {
        "colab_type": "code",
        "id": "bHjD4qR_io3k",
        "outputId": "f547c6a3-0b10-415a-9700-406352496757",
        "colab": {
          "base_uri": "https://localhost:8080/",
          "height": 136
        }
      },
      "source": [
        "print(X_train)"
      ],
      "execution_count": 5,
      "outputs": [
        {
          "output_type": "stream",
          "text": [
            "[[6.500e+01 8.450e+03 7.000e+00 ... 0.000e+00 2.000e+00 2.008e+03]\n",
            " [8.000e+01 9.600e+03 6.000e+00 ... 0.000e+00 5.000e+00 2.007e+03]\n",
            " [6.800e+01 1.125e+04 7.000e+00 ... 0.000e+00 9.000e+00 2.008e+03]\n",
            " ...\n",
            " [6.600e+01 9.042e+03 7.000e+00 ... 2.500e+03 5.000e+00 2.010e+03]\n",
            " [6.800e+01 9.717e+03 5.000e+00 ... 0.000e+00 4.000e+00 2.010e+03]\n",
            " [7.500e+01 9.937e+03 5.000e+00 ... 0.000e+00 6.000e+00 2.008e+03]]\n"
          ],
          "name": "stdout"
        }
      ]
    },
    {
      "cell_type": "code",
      "metadata": {
        "colab_type": "code",
        "id": "MxVM-Bx3RAb2",
        "colab": {}
      },
      "source": [
        "X_train , X_test , y_train , y_test=  train_test_split(X_train , y_train , test_size= 0.2 , random_state=123)"
      ],
      "execution_count": 0,
      "outputs": []
    },
    {
      "cell_type": "code",
      "metadata": {
        "colab_type": "code",
        "id": "WppZrDSW7Pd2",
        "outputId": "d18bbabb-7d98-4d98-9e81-a6c259f14950",
        "colab": {
          "base_uri": "https://localhost:8080/",
          "height": 105
        }
      },
      "source": [
        "reg = RandomForestRegressor().fit(X_train, y_train)"
      ],
      "execution_count": 7,
      "outputs": [
        {
          "output_type": "stream",
          "text": [
            "/usr/local/lib/python3.6/dist-packages/sklearn/ensemble/forest.py:245: FutureWarning: The default value of n_estimators will change from 10 in version 0.20 to 100 in 0.22.\n",
            "  \"10 in version 0.20 to 100 in 0.22.\", FutureWarning)\n",
            "/usr/local/lib/python3.6/dist-packages/ipykernel_launcher.py:1: DataConversionWarning: A column-vector y was passed when a 1d array was expected. Please change the shape of y to (n_samples,), for example using ravel().\n",
            "  \"\"\"Entry point for launching an IPython kernel.\n"
          ],
          "name": "stderr"
        }
      ]
    },
    {
      "cell_type": "code",
      "metadata": {
        "colab_type": "code",
        "id": "1nneLxd1RGvY",
        "outputId": "cdc4d481-5d98-4623-e888-2d30fc212261",
        "colab": {
          "base_uri": "https://localhost:8080/",
          "height": 34
        }
      },
      "source": [
        "y_pred = reg.predict(X_test)\n",
        "\n",
        "print(mean_squared_error(y_test, y_pred))"
      ],
      "execution_count": 8,
      "outputs": [
        {
          "output_type": "stream",
          "text": [
            "763307645.4512138\n"
          ],
          "name": "stdout"
        }
      ]
    },
    {
      "cell_type": "code",
      "metadata": {
        "colab_type": "code",
        "id": "NEEWYHsqIYLg",
        "colab": {}
      },
      "source": [
        "test = pd.read_csv('/content/drive/My Drive/test.csv', index_col= 'Id')\n",
        "test_labels = test.index\n",
        "test.reset_index(drop=True, inplace=True)\n",
        "\n",
        "# print(test)"
      ],
      "execution_count": 0,
      "outputs": []
    },
    {
      "cell_type": "code",
      "metadata": {
        "colab_type": "code",
        "id": "5awgRf50Mjay",
        "outputId": "85cb4b2a-42d9-4cd3-f7bf-5138b2b2ddc7",
        "colab": {
          "base_uri": "https://localhost:8080/",
          "height": 309
        }
      },
      "source": [
        "X = preprocess_data(test)\n",
        "y = reg.predict(X)\n",
        "\n",
        "result = numpy.vstack((test_labels, y)).T\n",
        "result = numpy.vstack(([[\"Id\", \"SalePrice\"]], result))\n",
        "df = pd.DataFrame(result)\n",
        "df.columns = df.iloc[0]\n",
        "df=df[1:]\n",
        "print(df)\n",
        "df.to_csv(\"results.csv\", index=False)"
      ],
      "execution_count": 10,
      "outputs": [
        {
          "output_type": "stream",
          "text": [
            "0         Id SalePrice\n",
            "1     1461.0  124100.0\n",
            "2     1462.0  152500.0\n",
            "3     1463.0  172020.0\n",
            "4     1464.0  185050.0\n",
            "5     1465.0  190478.5\n",
            "...      ...       ...\n",
            "1455  2915.0   81300.0\n",
            "1456  2916.0   91250.0\n",
            "1457  2917.0  161910.0\n",
            "1458  2918.0  106250.0\n",
            "1459  2919.0  226240.0\n",
            "\n",
            "[1459 rows x 2 columns]\n"
          ],
          "name": "stdout"
        },
        {
          "output_type": "stream",
          "text": [
            "/usr/local/lib/python3.6/dist-packages/sklearn/utils/deprecation.py:66: DeprecationWarning: Class Imputer is deprecated; Imputer was deprecated in version 0.20 and will be removed in 0.22. Import impute.SimpleImputer from sklearn instead.\n",
            "  warnings.warn(msg, category=DeprecationWarning)\n"
          ],
          "name": "stderr"
        }
      ]
    },
    {
      "cell_type": "code",
      "metadata": {
        "colab_type": "code",
        "id": "6i1UJ-k3Nu49",
        "colab": {}
      },
      "source": [
        ""
      ],
      "execution_count": 0,
      "outputs": []
    }
  ]
}