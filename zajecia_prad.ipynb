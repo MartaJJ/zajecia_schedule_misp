{
 "cells": [
  {
   "cell_type": "code",
   "execution_count": 1,
   "metadata": {},
   "outputs": [],
   "source": [
    "from pulp import *\n",
    "\n",
    "from ipywidgets import interact, interactive, fixed, interact_manual, Layout, FloatSlider, IntSlider\n",
    "import ipywidgets as widgets\n",
    "import pandas as pd"
   ]
  },
  {
   "cell_type": "code",
   "execution_count": 2,
   "metadata": {},
   "outputs": [],
   "source": [
    "pradMax = LpProblem(\"Prad max\", pulp.LpMaximize)\n",
    "\n",
    "prad_R1 = LpVariable('prad_R1', lowBound=0, cat='Continuous')\n",
    "prad_R2 = LpVariable('prad_R2', lowBound=0, cat='Continuous')\n",
    "prad_R3 = LpVariable('prad_R3', lowBound=0, cat='Continuous')\n",
    "prad_R4 = LpVariable('prad_R4', lowBound=0, cat='Continuous')\n",
    "prad_R5 = LpVariable('prad_R5', lowBound=0, cat='Continuous')\n",
    "\n",
    "R1=8\n",
    "R2=6\n",
    "R3=4\n",
    "R4=10\n",
    "R5=8"
   ]
  },
  {
   "cell_type": "code",
   "execution_count": 3,
   "metadata": {},
   "outputs": [],
   "source": [
    "style = {'description_width': 'initial'}\n",
    "prad_R1_slider = FloatSlider(min=0,max = 2, description=\"prad_R1\", style= style )\n",
    "prad_R2_slider = FloatSlider(min=0,max = 3, description=\"prad_R1\", style= style )\n",
    "prad_R3_slider = FloatSlider(min=0,max = 4, description=\"prad_R1\", style= style )\n",
    "prad_R4_slider = FloatSlider(min=0,max = 2, description=\"prad_R1\", style= style )\n",
    "prad_R5_slider = FloatSlider(min=0,max = 2, description=\"prad_R1\", style= style )\n"
   ]
  },
  {
   "cell_type": "code",
   "execution_count": 4,
   "metadata": {},
   "outputs": [
    {
     "data": {
      "text/plain": [
       "1"
      ]
     },
     "execution_count": 4,
     "metadata": {},
     "output_type": "execute_result"
    }
   ],
   "source": [
    "pradMax += prad_R3, \"Z\"\n",
    "\n",
    "pradMax += prad_R1 <=2, \"prad_R1\"\n",
    "pradMax += prad_R2 <=3, \"prad_R2\"\n",
    "pradMax += prad_R3 <=4, \"prad_R3\"\n",
    "pradMax += prad_R4 <=2, \"prad_R4\"\n",
    "pradMax += prad_R5 <=2, \"prad_R5\"\n",
    "pradMax += prad_R1*R1==prad_R2*R2, \"prad_R1R2\"\n",
    "pradMax += prad_R4*R4==prad_R5*R5 , \"prad_R4R5\"\n",
    "pradMax += prad_R3==prad_R4+prad_R5, \"pradzik\"\n",
    "pradMax += prad_R3==prad_R1+prad_R2, \"pp\"\n",
    "\n",
    "pradMax.solve()"
   ]
  },
  {
   "cell_type": "code",
   "execution_count": 5,
   "metadata": {},
   "outputs": [
    {
     "name": "stdout",
     "output_type": "stream",
     "text": [
      "prad_R1 = 1.5428571\n",
      "prad_R2 = 2.0571429\n",
      "prad_R3 = 3.6\n",
      "prad_R4 = 1.6\n",
      "prad_R5 = 2.0\n",
      "3.6\n"
     ]
    }
   ],
   "source": [
    "for variable in pradMax.variables():\n",
    "    print(\"{} = {}\".format(variable.name, variable.varValue))\n",
    "print(pulp.value(pradMax.objective))"
   ]
  },
  {
   "cell_type": "code",
   "execution_count": 6,
   "metadata": {
    "scrolled": true
   },
   "outputs": [
    {
     "name": "stdout",
     "output_type": "stream",
     "text": [
      "\n",
      "Sensitivity Analysis\n",
      "\n",
      "        Name\tConstraint\t\t\tShadow Price\t\tSlack\n",
      "prad_R1           : prad_R1 <= 2                      -0.0              0.4571429 \n",
      "prad_R2           : prad_R2 <= 3                      -0.0              0.9428570999999999\n",
      "prad_R3           : prad_R3 <= 4                      -0.0              0.3999999999999999\n",
      "prad_R4           : prad_R4 <= 2                      -0.0              0.3999999999999999\n",
      "prad_R5           : prad_R5 <= 2                      1.8               -0.0      \n",
      "prad_R1R2         : 8*prad_R1 - 6*prad_R2 = 0         -0.0              -0.0      \n",
      "prad_R4R5         : 10*prad_R4 - 8*prad_R5 = 0        0.1               -0.0      \n",
      "pradzik           : prad_R3 - prad_R4 - prad_R5 = 0   1.0               -0.0      \n",
      "pp                : -prad_R1 - prad_R2 + prad_R3 = 0  -0.0              4.4408921e-16\n"
     ]
    }
   ],
   "source": [
    "print(\"\"\"\\nSensitivity Analysis\\n\n",
    "        Name\\tConstraint\\t\\t\\tShadow Price\\t\\tSlack\"\"\")\n",
    "for name, c in pradMax.constraints.items():\n",
    "    print(str(name).ljust(17), \":\", str(c).ljust(33), str(c.pi).ljust(17), str(c.slack).ljust(10))"
   ]
  },
  {
   "cell_type": "code",
   "execution_count": 7,
   "metadata": {},
   "outputs": [],
   "source": [
    "prad_R1=prad_R1_slider,\n",
    "prad_R2=prad_R2_slider,"
   ]
  }
 ],
 "metadata": {
  "kernelspec": {
   "display_name": "Python 3",
   "language": "python",
   "name": "python3"
  },
  "language_info": {
   "codemirror_mode": {
    "name": "ipython",
    "version": 3
   },
   "file_extension": ".py",
   "mimetype": "text/x-python",
   "name": "python",
   "nbconvert_exporter": "python",
   "pygments_lexer": "ipython3",
   "version": "3.7.4"
  }
 },
 "nbformat": 4,
 "nbformat_minor": 2
}
