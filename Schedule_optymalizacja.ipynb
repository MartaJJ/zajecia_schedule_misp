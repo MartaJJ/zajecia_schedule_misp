{
 "cells": [
  {
   "cell_type": "code",
   "execution_count": 1,
   "metadata": {},
   "outputs": [],
   "source": [
    "from pulp import *\n",
    "import pandas as pd\n",
    "import numpy as np"
   ]
  },
  {
   "cell_type": "code",
   "execution_count": 2,
   "metadata": {},
   "outputs": [],
   "source": [
    "godziny = LpProblem(\"Najtaniej praca\",LpMinimize)\n",
    "mIgor=pulp.LpVariable(\"mIgor\",lowBound=0,upBound=4,cat='Integer')\n",
    "tIgor=pulp.LpVariable(\"tIgor\",lowBound=0,upBound=4,cat='Integer')\n",
    "wIgor=pulp.LpVariable(\"wIgor\",lowBound=1,upBound=4,cat='Integer')\n",
    "tuIgor=pulp.LpVariable(\"tuIgor\",lowBound=0,upBound=4,cat='Integer')\n",
    "fIgor=pulp.LpVariable(\"fIgor\",lowBound=0,upBound=4,cat='Integer')\n",
    "saIgor=pulp.LpVariable(\"saIgor\",lowBound=1,upBound=4,cat='Integer')\n",
    "mMarcin=pulp.LpVariable(\"mMarcin\",lowBound=0,upBound=4,cat='Integer')\n",
    "tMarcin=pulp.LpVariable(\"tMarcin\",lowBound=0,upBound=4,cat='Integer')\n",
    "wMarcin=pulp.LpVariable(\"wMarcin\",lowBound=1,upBound=4,cat='Integer')\n",
    "tuMarcin=pulp.LpVariable(\"tuMarcin\",lowBound=1,upBound=4,cat='Integer')\n",
    "fMarcin=pulp.LpVariable(\"fMarcin\",lowBound=0,upBound=4,cat='Integer')\n",
    "saMarcin=pulp.LpVariable(\"saMarcin\",lowBound=0,upBound=4,cat='Integer')\n",
    "mFranus=pulp.LpVariable(\"mFranus\",lowBound=0,upBound=3,cat='Integer')\n",
    "tFranus=pulp.LpVariable(\"tFranus\",lowBound=1,upBound=3,cat='Integer')\n",
    "wFranus=pulp.LpVariable(\"wFranus\",lowBound=0,upBound=3,cat='Integer')\n",
    "tuFranus=pulp.LpVariable(\"tuFranus\",lowBound=0,upBound=3,cat='Integer')\n",
    "fFranus=pulp.LpVariable(\"fFranus\",lowBound=0,upBound=3,cat='Integer')\n",
    "saFranus=pulp.LpVariable(\"saFranus\",lowBound=0,upBound=3,cat='Integer')\n",
    "mPioter=pulp.LpVariable(\"mPioter\",lowBound=1,upBound=8,cat='Integer')\n",
    "tPioter=pulp.LpVariable(\"tPioter\",lowBound=0,upBound=8,cat='Integer')\n",
    "wPioter=pulp.LpVariable(\"wPioter\",lowBound=0,upBound=8,cat='Integer')\n",
    "tuPioter=pulp.LpVariable(\"tuPioter\",lowBound=0,upBound=8,cat='Integer')\n",
    "fPioter=pulp.LpVariable(\"fPioter\",lowBound=0,upBound=8,cat='Integer')\n",
    "saPioter=pulp.LpVariable(\"saPioter\",lowBound=0,upBound=8,cat='Integer')\n",
    "mAnia=pulp.LpVariable(\"mAnia\",lowBound=1,upBound=10,cat='Integer')\n",
    "tAnia=pulp.LpVariable(\"tAnia\",lowBound=0,upBound=10,cat='Integer')\n",
    "wAnia=pulp.LpVariable(\"wAnia\",lowBound=0,upBound=10,cat='Integer')\n",
    "tuAnia=pulp.LpVariable(\"tuAnia\",lowBound=0,upBound=10,cat='Integer')\n",
    "fAnia=pulp.LpVariable(\"fAnia\",lowBound=1,upBound=10,cat='Integer')\n",
    "saAnia=pulp.LpVariable(\"saAnia\",lowBound=0,upBound=10,cat='Integer')\n",
    "mZuzia=pulp.LpVariable(\"mZuzia\",lowBound=1,upBound=5,cat='Integer')\n",
    "tZuzia=pulp.LpVariable(\"tZuzia\",lowBound=0,upBound=5,cat='Integer')\n",
    "wZuzia=pulp.LpVariable(\"wZuzia\",lowBound=0,upBound=5,cat='Integer')\n",
    "tuZuzia=pulp.LpVariable(\"tuZuzia\",lowBound=0,upBound=5,cat='Integer')\n",
    "fZuzia=pulp.LpVariable(\"fZuzia\",lowBound=0,upBound=5,cat='Integer')\n",
    "saZuzia=pulp.LpVariable(\"saZuzia\",lowBound=0,upBound=5,cat='Integer')"
   ]
  },
  {
   "cell_type": "code",
   "execution_count": 3,
   "metadata": {},
   "outputs": [
    {
     "data": {
      "text/plain": [
       "1"
      ]
     },
     "execution_count": 3,
     "metadata": {},
     "output_type": "execute_result"
    }
   ],
   "source": [
    "#rozwiązujemy zadanie tak aby wszyscy mieli odpowiednią liczbę godzin i jednocześnie aby wyszło jak najtaniej\n",
    "godziny += (mIgor+tIgor+wIgor+tuIgor+fIgor+saIgor)*170+(mMarcin+tMarcin+wMarcin+tuMarcin+fMarcin+saMarcin)*60+(mFranus+tFranus+wFranus+tuFranus+fFranus+saFranus)*80 +(mPioter+tPioter+wPioter+tuPioter+fPioter+saPioter)*200+(mAnia+tAnia+wAnia+tuAnia+fAnia+saAnia)*90 +(mZuzia+tZuzia+wZuzia+tuZuzia+fZuzia+saZuzia)*70 \n",
    "\n",
    "godziny +=(mIgor+tIgor+wIgor+tuIgor+fIgor+saIgor)+ (mMarcin+tMarcin+wMarcin+tuMarcin+fMarcin+saMarcin)+(mFranus+tFranus+wFranus+tuFranus+fFranus+saFranus) +(mPioter+tPioter+wPioter+tuPioter+fPioter+saPioter)+(mAnia+tAnia+wAnia+tuAnia+fAnia+saAnia) + (mZuzia+tZuzia+wZuzia+tuZuzia+fZuzia+saZuzia)==30\n",
    "godziny+= mIgor+tIgor+wIgor+tuIgor+fIgor+saIgor <=4 \n",
    "godziny+= mMarcin+tMarcin+wMarcin+tuMarcin+fMarcin+saMarcin <=4 \n",
    "godziny += mFranus+tFranus+wFranus+tuFranus+fFranus+saFranus <=3 \n",
    "godziny += mPioter+tPioter+wPioter+tuPioter+fPioter+saPioter <=8 \n",
    "godziny += mAnia+tAnia+wAnia+tuAnia+fAnia+saAnia <=10 \n",
    "godziny += mZuzia+tZuzia+wZuzia+tuZuzia+fZuzia+saZuzia <=5 \n",
    "godziny += mIgor + mMarcin + mFranus + mPioter + mAnia + mZuzia <=8\n",
    "godziny += tIgor + tMarcin + tFranus + tPioter + tAnia + tZuzia <=4\n",
    "godziny += wIgor + wMarcin + wFranus + wPioter + wAnia + wZuzia <=4\n",
    "godziny += tuIgor + tuMarcin + tuFranus + tuPioter + tuAnia + tuZuzia <=4\n",
    "godziny += fIgor + fMarcin + fFranus + fPioter + fAnia + fZuzia <=8\n",
    "godziny += saIgor + saMarcin + saFranus + saPioter + saAnia + saZuzia <=2\n",
    "\n",
    "godziny.solve()"
   ]
  },
  {
   "cell_type": "code",
   "execution_count": 4,
   "metadata": {},
   "outputs": [],
   "source": [
    "tablicaM=[]\n",
    "tablicaT=[]\n",
    "tablicaW=[]\n",
    "tablicaTu=[]\n",
    "tablicaF=[]\n",
    "tablicaSa=[]"
   ]
  },
  {
   "cell_type": "code",
   "execution_count": 5,
   "metadata": {},
   "outputs": [],
   "source": [
    "#tworzenie tablic przypisujemy ilosc godzin danej osoby do danego dnia\n",
    "\n",
    "for variable in godziny.variables():\n",
    "    #print (\"{} = {}\".format(variable.name,variable.varValue))\n",
    "    wartosc=variable.varValue\n",
    "    imie=variable.name\n",
    "    \n",
    "    if(imie.startswith(\"m\")== 1):\n",
    "        tablicaM.append(wartosc)\n",
    "    elif(imie.startswith(\"t\")== 1 and imie.startswith(\"tu\")== 0):\n",
    "        tablicaT.append(wartosc)        \n",
    "    elif(imie.startswith(\"w\")== 1):\n",
    "        tablicaW.append(wartosc)        \n",
    "    elif(imie.startswith(\"tu\")== 1):\n",
    "        tablicaTu.append(wartosc)\n",
    "    elif(imie.startswith(\"f\")== 1):\n",
    "        tablicaF.append(wartosc)        \n",
    "    elif(imie.startswith(\"sa\")== 1):\n",
    "        tablicaSa.append(wartosc)\n",
    "        "
   ]
  },
  {
   "cell_type": "code",
   "execution_count": 6,
   "metadata": {},
   "outputs": [
    {
     "name": "stdout",
     "output_type": "stream",
     "text": [
      "------------------Schedule---------------------\n",
      "           Ania Franus Igor Pioter Marcin Zuzia\n",
      "Poniedzieli: [6.0, 0.0, 0.0, 0.0, 1.0, 1.0] \n",
      "Wtorek:      [0.0, 1.0, 0.0, 0.0, 0.0, 3.0]\n",
      "Środa:       [1.0, 0.0, 1.0, 2.0, 0.0, 0.0]\n",
      "Czwartek:    [1.0, 0.0, 2.0, 1.0, 0.0, 0.0]\n",
      "Piątek:      [1.0, 2.0, 0.0, 1.0, 3.0, 1.0]\n",
      "Sobota:      [1.0, 0.0, 1.0, 0.0, 0.0, 0.0]\n"
     ]
    }
   ],
   "source": [
    "#stworzenie tablicy\n",
    "\n",
    "\n",
    "print(\"------------------Schedule---------------------\")\n",
    "print(\"           Ania Franus Igor Pioter Marcin Zuzia\\nPoniedzieli: {} \\nWtorek:      {}\".format(tablicaM,tablicaT))\n",
    "print(\"Środa:       {}\\nCzwartek:    {}\\nPiątek:      {}\\nSobota:      {}\".format(tablicaW,tablicaTu,tablicaF,tablicaSa))"
   ]
  }
 ],
 "metadata": {
  "kernelspec": {
   "display_name": "Python 3",
   "language": "python",
   "name": "python3"
  },
  "language_info": {
   "codemirror_mode": {
    "name": "ipython",
    "version": 3
   },
   "file_extension": ".py",
   "mimetype": "text/x-python",
   "name": "python",
   "nbconvert_exporter": "python",
   "pygments_lexer": "ipython3",
   "version": "3.7.4"
  }
 },
 "nbformat": 4,
 "nbformat_minor": 2
}
